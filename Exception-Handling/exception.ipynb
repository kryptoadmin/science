{
 "cells": [
  {
   "cell_type": "markdown",
   "metadata": {},
   "source": [
    "# Exception Handling"
   ]
  },
  {
   "cell_type": "markdown",
   "metadata": {},
   "source": [
    "## Exception handling in python allows you to handle errors gracefully and take right actions without stopping the execution of program. This sections includes the basics of exception handling, including how to use try, catch, except, else and finally blocks"
   ]
  },
  {
   "cell_type": "code",
   "execution_count": 1,
   "metadata": {},
   "outputs": [
    {
     "name": "stdout",
     "output_type": "stream",
     "text": [
      "name 'b' is not defined\n"
     ]
    }
   ],
   "source": [
    "### Handling NameError\n",
    "\n",
    "try:\n",
    "    a = b\n",
    "except NameError as ex:\n",
    "    print(ex)"
   ]
  },
  {
   "cell_type": "code",
   "execution_count": 2,
   "metadata": {},
   "outputs": [
    {
     "name": "stdout",
     "output_type": "stream",
     "text": [
      "division by zero\n"
     ]
    }
   ],
   "source": [
    "### Handling division by zero\n",
    "\n",
    "try:\n",
    "    a = 1/0\n",
    "except ZeroDivisionError as ex:\n",
    "    print(ex)"
   ]
  },
  {
   "cell_type": "code",
   "execution_count": 5,
   "metadata": {},
   "outputs": [
    {
     "name": "stdout",
     "output_type": "stream",
     "text": [
      "division by zero\n"
     ]
    }
   ],
   "source": [
    "### Handling multiple exceptions\n",
    "\n",
    "try:\n",
    "    num = int(input(\"Enter a number\"))\n",
    "    result = 1 / num\n",
    "except ValueError as ex:\n",
    "    print(ex)\n",
    "except ZeroDivisionError as ex:\n",
    "    print(ex)\n",
    "except Exception as ex:\n",
    "    print(ex)"
   ]
  },
  {
   "cell_type": "code",
   "execution_count": 8,
   "metadata": {},
   "outputs": [
    {
     "name": "stdout",
     "output_type": "stream",
     "text": [
      "There were no exceptions occurred, and the result is  0.02857142857142857\n"
     ]
    }
   ],
   "source": [
    "### Else clause in try loop where it executes only when exception is not araised\n",
    "\n",
    "try:\n",
    "    num = int(input(\"Enter a number\"))\n",
    "    result = 1 / num\n",
    "except ValueError as ex:\n",
    "    print(ex)\n",
    "except ZeroDivisionError as ex:\n",
    "    print(ex)\n",
    "except Exception as e:\n",
    "    print(e)\n",
    "else:\n",
    "    print(\"There were no exceptions occurred, and the result is \", result)"
   ]
  },
  {
   "cell_type": "code",
   "execution_count": 10,
   "metadata": {},
   "outputs": [
    {
     "name": "stdout",
     "output_type": "stream",
     "text": [
      "Execution got completed\n"
     ]
    }
   ],
   "source": [
    "### Finally block in try where it must be executed after try code even the exception is raised or not\n",
    "\n",
    "try:\n",
    "    num = int(input(\"Enter a number\"))\n",
    "    result = 1 / num\n",
    "except ValueError as e:\n",
    "    print(e)\n",
    "except ZeroDivisionError as e:\n",
    "    print(e)\n",
    "except Exception as e:\n",
    "    print(e)\n",
    "finally:\n",
    "    print(\"Execution got completed\")"
   ]
  },
  {
   "cell_type": "code",
   "execution_count": 11,
   "metadata": {},
   "outputs": [
    {
     "name": "stdout",
     "output_type": "stream",
     "text": [
      "[Errno 2] No such file or directory: 'example.txt'\n"
     ]
    }
   ],
   "source": [
    "### Integrating file handling with exception handling\n",
    "\n",
    "try:\n",
    "    file_name = \"example.txt\"\n",
    "    with open(file_name, \"r\") as file:\n",
    "        content = file.content()\n",
    "except FileNotFoundError as e:\n",
    "    print(e)\n",
    "except Exception as e:\n",
    "    print(e)"
   ]
  },
  {
   "cell_type": "code",
   "execution_count": 15,
   "metadata": {},
   "outputs": [
    {
     "name": "stdout",
     "output_type": "stream",
     "text": [
      "[Errno 2] No such file or directory: 'example.txt'\n",
      "File doesn't exists\n"
     ]
    }
   ],
   "source": [
    "### Integrating finally block and exception handling with file handling\n",
    "\n",
    "try:\n",
    "    file_name = \"example.txt\"\n",
    "    with open(file_name, \"r\") as file:\n",
    "        content = file.content()\n",
    "except FileNotFoundError as e:\n",
    "    print(e)\n",
    "except Exception as e:\n",
    "    print(e)\n",
    "finally:\n",
    "    if file_name in locals() and not file.closed():\n",
    "        file.close()\n",
    "        print(\"File is now closed\")\n",
    "    else:\n",
    "        print(\"File doesn't exists\")"
   ]
  },
  {
   "cell_type": "code",
   "execution_count": null,
   "metadata": {},
   "outputs": [],
   "source": []
  }
 ],
 "metadata": {
  "kernelspec": {
   "display_name": "Python 3",
   "language": "python",
   "name": "python3"
  },
  "language_info": {
   "codemirror_mode": {
    "name": "ipython",
    "version": 3
   },
   "file_extension": ".py",
   "mimetype": "text/x-python",
   "name": "python",
   "nbconvert_exporter": "python",
   "pygments_lexer": "ipython3",
   "version": "3.11.0"
  }
 },
 "nbformat": 4,
 "nbformat_minor": 2
}
