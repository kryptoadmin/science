{
 "cells": [
  {
   "cell_type": "markdown",
   "metadata": {},
   "source": [
    "# Simple Linear Regression"
   ]
  },
  {
   "cell_type": "code",
   "execution_count": 1,
   "metadata": {},
   "outputs": [
    {
     "name": "stderr",
     "output_type": "stream",
     "text": [
      "Matplotlib is building the font cache; this may take a moment.\n"
     ]
    }
   ],
   "source": [
    "# import necessary libraries\n",
    "import numpy as np\n",
    "import pandas as pd\n",
    "import matplotlib.pyplot as plt\n",
    "from sklearn.model_selection import train_test_split\n",
    "from sklearn.linear_model import LinearRegression\n",
    "from sklearn.metrics import mean_squared_error, r2_score"
   ]
  },
  {
   "cell_type": "code",
   "execution_count": 2,
   "metadata": {},
   "outputs": [
    {
     "name": "stdout",
     "output_type": "stream",
     "text": [
      "   Advertising  Sales\n",
      "0         23.0     14\n",
      "1         45.0     25\n",
      "2         12.0      9\n",
      "3          NaN     17\n",
      "4         34.0     20\n"
     ]
    }
   ],
   "source": [
    "# Load the dataset of the sales\n",
    "df = pd.read_csv(\"./sales_data.csv\")\n",
    "\n",
    "# Print first few rows of the dataset\n",
    "print(df.head())"
   ]
  },
  {
   "cell_type": "code",
   "execution_count": 3,
   "metadata": {},
   "outputs": [
    {
     "name": "stdout",
     "output_type": "stream",
     "text": [
      "   Advertising  Sales\n",
      "0       23.000     14\n",
      "1       45.000     25\n",
      "2       12.000      9\n",
      "3       32.875     17\n",
      "4       34.000     20\n"
     ]
    }
   ],
   "source": [
    "# Handling null values by replacing null values with the mean of the column values\n",
    "df[\"Advertising\"] = df[\"Advertising\"].fillna(df[\"Advertising\"].mean())\n",
    "\n",
    "# Print first few rows after handling the null values\n",
    "print(df.head())"
   ]
  },
  {
   "cell_type": "code",
   "execution_count": null,
   "metadata": {},
   "outputs": [],
   "source": []
  }
 ],
 "metadata": {
  "kernelspec": {
   "display_name": "env",
   "language": "python",
   "name": "python3"
  },
  "language_info": {
   "codemirror_mode": {
    "name": "ipython",
    "version": 3
   },
   "file_extension": ".py",
   "mimetype": "text/x-python",
   "name": "python",
   "nbconvert_exporter": "python",
   "pygments_lexer": "ipython3",
   "version": "3.11.9"
  }
 },
 "nbformat": 4,
 "nbformat_minor": 2
}
