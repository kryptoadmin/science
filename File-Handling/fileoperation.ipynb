{
 "cells": [
  {
   "cell_type": "markdown",
   "metadata": {},
   "source": [
    "# File Operations"
   ]
  },
  {
   "cell_type": "markdown",
   "metadata": {},
   "source": [
    "### File handling is crucial part of any programming language. Python provides default built-in functions and methods to read and write files, both text and binary. This section will cover the basics of reading and writing text and binary files"
   ]
  },
  {
   "cell_type": "code",
   "execution_count": 1,
   "metadata": {},
   "outputs": [
    {
     "name": "stdout",
     "output_type": "stream",
     "text": [
      "Lorem ipsum dolor sit amet, consectetur adipiscing elit. Vivamus elementum ex at risus ornare dictum. Duis dignissim imperdiet justo, faucibus condimentum erat feugiat sed. Ut commodo molestie leo sed elementum. Integer et pellentesque nunc, non rhoncus massa. Proin nulla massa, varius a scelerisque eget, ornare sit amet diam. Nunc vel feugiat augue. Curabitur vel ornare tortor. Curabitur interdum finibus sollicitudin.\n",
      "\n",
      "Pellentesque sodales accumsan ex in consequat. Etiam a nulla vulputate, sollicitudin nunc sed, posuere velit. Nullam fringilla mi purus, nec accumsan purus luctus ut. In non turpis nec massa semper ultricies. Nunc convallis luctus lorem eu pulvinar. Pellentesque lacus eros, hendrerit et purus eget, varius efficitur turpis. Aliquam eleifend felis leo, a feugiat leo mollis quis. Curabitur euismod semper metus sed tempus. Pellentesque elementum tellus vitae ultricies feugiat. Mauris porttitor porttitor leo, ut tempor eros convallis vitae. Curabitur eu consectetur dui. Lorem ipsum dolor sit amet, consectetur adipiscing elit. Duis ac est justo. Integer aliquet pharetra sapien non molestie. Integer suscipit aliquam metus id accumsan.\n",
      "\n",
      "Nullam odio ligula, ornare sed justo vel, fringilla pellentesque ante. Fusce efficitur, arcu sed pharetra placerat, ipsum odio tristique lectus, et viverra ipsum sem id ligula. Pellentesque efficitur efficitur dapibus. Sed eu dictum neque. Maecenas ut urna consequat, congue dolor vitae, commodo eros. Integer accumsan velit vitae nibh molestie ultrices. Nulla dignissim sit amet erat non scelerisque. Praesent consequat magna velit, ac posuere risus facilisis eget. Mauris nunc ante, consectetur at orci in, mattis dapibus lorem. Phasellus justo mi, cursus vel posuere id, consectetur sodales nisi. Curabitur tincidunt orci metus, vel gravida dui condimentum a. Ut et hendrerit lacus. Ut ac fermentum justo. Vivamus eleifend metus quis tortor bibendum, ac dignissim nulla volutpat. Mauris consequat odio at libero imperdiet, ut molestie augue vulputate.\n",
      "\n",
      "Proin rutrum ac erat at hendrerit. Morbi quam justo, volutpat ut lacinia sit amet, ornare vitae ligula. Quisque sodales felis a ex feugiat, nec feugiat odio finibus. Fusce semper congue dignissim. Lorem ipsum dolor sit amet, consectetur adipiscing elit. Donec lacus erat, fringilla sed scelerisque nec, iaculis sit amet massa. Donec eleifend auctor elit, vitae tincidunt est elementum a. Maecenas non tortor sed turpis convallis eleifend vel a nisl.\n",
      "\n",
      "Mauris nec magna ac odio viverra faucibus. Praesent imperdiet ex in mauris elementum imperdiet. Cras volutpat mauris felis. Vivamus pretium molestie euismod. Cras non suscipit urna, non dignissim felis. Phasellus at sapien rutrum mauris maximus lacinia sed vel metus. Nullam consequat leo id eros dictum, nec tristique justo dapibus. Nunc ut dictum dui. Donec id molestie turpis. Quisque commodo porttitor ante, eu pellentesque odio lobortis at. Nam libero ligula, faucibus vitae urna ultricies, ullamcorper pulvinar sem. Lorem ipsum dolor sit amet, consectetur adipiscing elit. Maecenas velit tortor, tincidunt sit amet cursus vitae, molestie a leo. Maecenas euismod dignissim auctor.\n"
     ]
    }
   ],
   "source": [
    "### Read the whole file\n",
    "\n",
    "with open(\"example.txt\", \"r\") as file:\n",
    "    content = file.read()\n",
    "    print(content)"
   ]
  },
  {
   "cell_type": "code",
   "execution_count": 4,
   "metadata": {},
   "outputs": [
    {
     "name": "stdout",
     "output_type": "stream",
     "text": [
      "Lorem ipsum dolor sit amet, consectetur adipiscing elit. Vivamus elementum ex at risus ornare dictum. Duis dignissim imperdiet justo, faucibus condimentum erat feugiat sed. Ut commodo molestie leo sed elementum. Integer et pellentesque nunc, non rhoncus massa. Proin nulla massa, varius a scelerisque eget, ornare sit amet diam. Nunc vel feugiat augue. Curabitur vel ornare tortor. Curabitur interdum finibus sollicitudin.\n",
      "\n",
      "Pellentesque sodales accumsan ex in consequat. Etiam a nulla vulputate, sollicitudin nunc sed, posuere velit. Nullam fringilla mi purus, nec accumsan purus luctus ut. In non turpis nec massa semper ultricies. Nunc convallis luctus lorem eu pulvinar. Pellentesque lacus eros, hendrerit et purus eget, varius efficitur turpis. Aliquam eleifend felis leo, a feugiat leo mollis quis. Curabitur euismod semper metus sed tempus. Pellentesque elementum tellus vitae ultricies feugiat. Mauris porttitor porttitor leo, ut tempor eros convallis vitae. Curabitur eu consectetur dui. Lorem ipsum dolor sit amet, consectetur adipiscing elit. Duis ac est justo. Integer aliquet pharetra sapien non molestie. Integer suscipit aliquam metus id accumsan.\n",
      "\n",
      "Nullam odio ligula, ornare sed justo vel, fringilla pellentesque ante. Fusce efficitur, arcu sed pharetra placerat, ipsum odio tristique lectus, et viverra ipsum sem id ligula. Pellentesque efficitur efficitur dapibus. Sed eu dictum neque. Maecenas ut urna consequat, congue dolor vitae, commodo eros. Integer accumsan velit vitae nibh molestie ultrices. Nulla dignissim sit amet erat non scelerisque. Praesent consequat magna velit, ac posuere risus facilisis eget. Mauris nunc ante, consectetur at orci in, mattis dapibus lorem. Phasellus justo mi, cursus vel posuere id, consectetur sodales nisi. Curabitur tincidunt orci metus, vel gravida dui condimentum a. Ut et hendrerit lacus. Ut ac fermentum justo. Vivamus eleifend metus quis tortor bibendum, ac dignissim nulla volutpat. Mauris consequat odio at libero imperdiet, ut molestie augue vulputate.\n",
      "\n",
      "Proin rutrum ac erat at hendrerit. Morbi quam justo, volutpat ut lacinia sit amet, ornare vitae ligula. Quisque sodales felis a ex feugiat, nec feugiat odio finibus. Fusce semper congue dignissim. Lorem ipsum dolor sit amet, consectetur adipiscing elit. Donec lacus erat, fringilla sed scelerisque nec, iaculis sit amet massa. Donec eleifend auctor elit, vitae tincidunt est elementum a. Maecenas non tortor sed turpis convallis eleifend vel a nisl.\n",
      "\n",
      "Mauris nec magna ac odio viverra faucibus. Praesent imperdiet ex in mauris elementum imperdiet. Cras volutpat mauris felis. Vivamus pretium molestie euismod. Cras non suscipit urna, non dignissim felis. Phasellus at sapien rutrum mauris maximus lacinia sed vel metus. Nullam consequat leo id eros dictum, nec tristique justo dapibus. Nunc ut dictum dui. Donec id molestie turpis. Quisque commodo porttitor ante, eu pellentesque odio lobortis at. Nam libero ligula, faucibus vitae urna ultricies, ullamcorper pulvinar sem. Lorem ipsum dolor sit amet, consectetur adipiscing elit. Maecenas velit tortor, tincidunt sit amet cursus vitae, molestie a leo. Maecenas euismod dignissim auctor.\n"
     ]
    }
   ],
   "source": [
    "### Read the file line by line\n",
    "\n",
    "with open(\"example.txt\", \"r\") as file:\n",
    "    for line in file:\n",
    "        print(line.strip()) ### Strip() removes the new line operators"
   ]
  },
  {
   "cell_type": "code",
   "execution_count": 5,
   "metadata": {},
   "outputs": [],
   "source": [
    "### Write content to file (overwrite)\n",
    "\n",
    "with open(\"example.txt\", \"w\") as file:\n",
    "    file.write(\"I am overwriting existing content\\n\")"
   ]
  },
  {
   "cell_type": "code",
   "execution_count": 6,
   "metadata": {},
   "outputs": [],
   "source": [
    "### Writing content to file (appending)\n",
    "\n",
    "with open(\"example.txt\", \"a\") as file:\n",
    "    file.write(\"I am appended to previous content \\n\")\n",
    "    file.write(\"I am the end of the file\\n\")"
   ]
  },
  {
   "cell_type": "code",
   "execution_count": 7,
   "metadata": {},
   "outputs": [],
   "source": [
    "### Writing multiple lines to the file\n",
    "\n",
    "lines = [\"First line \\n\", \"Second line \\n\", \"Third line \\n\"]\n",
    "\n",
    "with open(\"example.txt\", \"a\") as file:\n",
    "    file.writelines(lines)"
   ]
  },
  {
   "cell_type": "code",
   "execution_count": 8,
   "metadata": {},
   "outputs": [],
   "source": [
    "### Writing content to the binary file\n",
    "\n",
    "text = b\"Hello, world!!!\"\n",
    "\n",
    "with open(\"example.bin\", \"wb\") as file:\n",
    "    file.write(text)"
   ]
  },
  {
   "cell_type": "code",
   "execution_count": 9,
   "metadata": {},
   "outputs": [
    {
     "name": "stdout",
     "output_type": "stream",
     "text": [
      "b'Hello, world!!!'\n"
     ]
    }
   ],
   "source": [
    "### Reading the content from the binary file\n",
    "\n",
    "with open(\"example.bin\", \"rb\") as file:\n",
    "    content = file.read()\n",
    "    print(content)"
   ]
  },
  {
   "cell_type": "code",
   "execution_count": 10,
   "metadata": {},
   "outputs": [
    {
     "name": "stdout",
     "output_type": "stream",
     "text": [
      "Lines count 6, words count 24, characters count 131\n"
     ]
    }
   ],
   "source": [
    "### Read the file and print number of lines, words and characters in file\n",
    "\n",
    "with open(\"example.txt\", \"r\") as file:\n",
    "    lines = file.readlines()\n",
    "    line_count = len(lines)\n",
    "    words_count = sum(len(line.split()) for line in lines)\n",
    "    characters_count = sum(len(line) for line in lines)\n",
    "\n",
    "    print(\"Lines count {}, words count {}, characters count {}\".format(line_count, words_count, characters_count))"
   ]
  },
  {
   "cell_type": "code",
   "execution_count": 14,
   "metadata": {},
   "outputs": [
    {
     "name": "stdout",
     "output_type": "stream",
     "text": [
      "I am writing content to file\n",
      "Proceeding with reading the content of file\n",
      "\n"
     ]
    }
   ],
   "source": [
    "### Read and write a file at the same time\n",
    "\n",
    "with open(\"example-text.txt\", \"w+\") as file:\n",
    "    file.write(\"I am writing content to file\\n\")\n",
    "    file.write(\"Proceeding with reading the content of file\\n\")\n",
    "\n",
    "    ### Change the cursor position to beginning\n",
    "    file.seek(0)\n",
    "\n",
    "    ### Read the content of the file\n",
    "    content = file.read()\n",
    "    print(content)"
   ]
  },
  {
   "cell_type": "code",
   "execution_count": null,
   "metadata": {},
   "outputs": [],
   "source": []
  }
 ],
 "metadata": {
  "kernelspec": {
   "display_name": "Python 3",
   "language": "python",
   "name": "python3"
  },
  "language_info": {
   "codemirror_mode": {
    "name": "ipython",
    "version": 3
   },
   "file_extension": ".py",
   "mimetype": "text/x-python",
   "name": "python",
   "nbconvert_exporter": "python",
   "pygments_lexer": "ipython3",
   "version": "3.11.0"
  }
 },
 "nbformat": 4,
 "nbformat_minor": 2
}
