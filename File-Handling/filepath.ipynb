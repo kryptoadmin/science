{
 "cells": [
  {
   "cell_type": "code",
   "execution_count": 1,
   "metadata": {},
   "outputs": [],
   "source": [
    "import os"
   ]
  },
  {
   "cell_type": "code",
   "execution_count": 2,
   "metadata": {},
   "outputs": [
    {
     "name": "stdout",
     "output_type": "stream",
     "text": [
      "Directory with name 'modules' created\n"
     ]
    }
   ],
   "source": [
    "### Create a directory using os library\n",
    "\n",
    "dir_name = \"modules\"\n",
    "os.mkdir(dir_name)\n",
    "print(f\"Directory with name '{dir_name}' created\")"
   ]
  },
  {
   "cell_type": "code",
   "execution_count": 3,
   "metadata": {},
   "outputs": [
    {
     "name": "stdout",
     "output_type": "stream",
     "text": [
      "['fileoperation.ipynb', 'filepath.ipynb', 'example.bin', 'example.txt', 'example-text.txt', 'modules']\n"
     ]
    }
   ],
   "source": [
    "### List the files and directories in a location\n",
    "\n",
    "file_list = os.listdir(\".\")\n",
    "print(file_list)"
   ]
  },
  {
   "cell_type": "code",
   "execution_count": 4,
   "metadata": {},
   "outputs": [
    {
     "name": "stdout",
     "output_type": "stream",
     "text": [
      "modules/example.txt\n"
     ]
    }
   ],
   "source": [
    "### Join and get the relative path of the file\n",
    "\n",
    "file_name = \"example.txt\"\n",
    "dir_name = \"modules\"\n",
    "file_path = os.path.join(dir_name, file_name)\n",
    "print(file_path)"
   ]
  },
  {
   "cell_type": "code",
   "execution_count": 6,
   "metadata": {},
   "outputs": [
    {
     "name": "stdout",
     "output_type": "stream",
     "text": [
      "/Users/dilipdakshinapu/work/science/File-Handling/example.txt\n"
     ]
    }
   ],
   "source": [
    "### Get the absolute path of the file using join\n",
    "\n",
    "file_name = \"example.txt\"\n",
    "file_path = os.path.join(os.getcwd(), file_name)\n",
    "print(file_path)"
   ]
  },
  {
   "cell_type": "code",
   "execution_count": 7,
   "metadata": {},
   "outputs": [
    {
     "name": "stdout",
     "output_type": "stream",
     "text": [
      "File with name 'example.txt' exists\n"
     ]
    }
   ],
   "source": [
    "### Check whether the file exists using os library\n",
    "\n",
    "file_name = \"example.txt\"\n",
    "if os.path.exists(file_name):\n",
    "    print(f\"File with name '{file_name}' exists\")\n",
    "else:\n",
    "    print(f\"File with name '{file_name}' doesn't exists\")"
   ]
  },
  {
   "cell_type": "code",
   "execution_count": 9,
   "metadata": {},
   "outputs": [
    {
     "name": "stdout",
     "output_type": "stream",
     "text": [
      "It is a file\n"
     ]
    }
   ],
   "source": [
    "### Check whether file or directory exists in different method\n",
    "\n",
    "file_name = \"example.txt\"\n",
    "if os.path.isfile(file_name):\n",
    "    print(\"It is a file\")\n",
    "elif os.path.isdir(file_name):\n",
    "    print(\"It is a directory\")\n",
    "else:\n",
    "    print(\"File seems to be doesn't exists\")"
   ]
  },
  {
   "cell_type": "code",
   "execution_count": 10,
   "metadata": {},
   "outputs": [
    {
     "name": "stdout",
     "output_type": "stream",
     "text": [
      "/Users/dilipdakshinapu/work/science/File-Handling/example.txt\n"
     ]
    }
   ],
   "source": [
    "### Get the absolute path of file using the relative path\n",
    "file_name = \"example.txt\"\n",
    "abs_path = os.path.abspath(file_name)\n",
    "print(abs_path)"
   ]
  },
  {
   "cell_type": "code",
   "execution_count": null,
   "metadata": {},
   "outputs": [],
   "source": []
  }
 ],
 "metadata": {
  "kernelspec": {
   "display_name": "Python 3",
   "language": "python",
   "name": "python3"
  },
  "language_info": {
   "codemirror_mode": {
    "name": "ipython",
    "version": 3
   },
   "file_extension": ".py",
   "mimetype": "text/x-python",
   "name": "python",
   "nbconvert_exporter": "python",
   "pygments_lexer": "ipython3",
   "version": "3.11.0"
  }
 },
 "nbformat": 4,
 "nbformat_minor": 2
}
